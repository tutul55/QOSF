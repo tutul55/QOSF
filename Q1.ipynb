{
 "cells": [
  {
   "cell_type": "code",
   "execution_count": 21,
   "id": "c58e86ea",
   "metadata": {},
   "outputs": [],
   "source": [
    "import pennylane as qml\n",
    "from pennylane import numpy as np"
   ]
  },
  {
   "cell_type": "code",
   "execution_count": 22,
   "id": "3aa1b57e",
   "metadata": {},
   "outputs": [],
   "source": [
    "dev = qml.device('default.qubit', wires=3)"
   ]
  },
  {
   "cell_type": "code",
   "execution_count": 23,
   "id": "b309defd",
   "metadata": {},
   "outputs": [],
   "source": [
    "@qml.qnode(dev)\n",
    "def find_largest_number(a, b):\n",
    "    qml.Hadamard(wires=0)\n",
    "    qml.Hadamard(wires=1)\n",
    "    qml.CNOT(wires=[0, 1])\n",
    "    qml.Toffoli(wires=[0, 1, 2])\n",
    "    qml.CNOT(wires=[0, 1])\n",
    "    qml.Hadamard(wires=0)\n",
    "    qml.Hadamard(wires=1)\n",
    "    return qml.probs(wires=[0, 1])\n",
    "\n",
    "def find_the_largest_number(number_1, number_2):\n",
    "    # Convert the input integers to binary representation\n",
    "    binary_1 = bin(abs(number_1))[2:].zfill(2)\n",
    "    binary_2 = bin(abs(number_2))[2:].zfill(2)\n",
    "\n",
    "    # Normalize binary representations to have the same number of bits\n",
    "    if len(binary_1) > len(binary_2):\n",
    "        binary_2 = binary_2.zfill(len(binary_1))\n",
    "    else:\n",
    "        binary_1 = binary_1.zfill(len(binary_2))\n",
    "\n",
    "    # Apply the quantum circuit to compare the two numbers\n",
    "    probs = find_largest_number(int(binary_1[0]), int(binary_2[0]))\n",
    "\n",
    "    # Return the largest number\n",
    "    if probs[0] > probs[1]:\n",
    "        return number_1\n",
    "    else:\n",
    "        return number_2\n"
   ]
  },
  {
   "cell_type": "code",
   "execution_count": 24,
   "id": "673bc05b",
   "metadata": {},
   "outputs": [
    {
     "name": "stdout",
     "output_type": "stream",
     "text": [
      "6\n"
     ]
    }
   ],
   "source": [
    "\n",
    "number_1 = 6\n",
    "number_2 = -9\n",
    "largest_number = find_the_largest_number(number_1, number_2)\n",
    "print(largest_number)\n"
   ]
  },
  {
   "cell_type": "code",
   "execution_count": 25,
   "id": "93d5d0cc",
   "metadata": {},
   "outputs": [
    {
     "name": "stdout",
     "output_type": "stream",
     "text": [
      "0: ──H─╭●─╭●─╭●──H─┤ ╭Probs\n",
      "1: ──H─╰X─├●─╰X──H─┤ ╰Probs\n",
      "2: ───────╰X───────┤       \n"
     ]
    }
   ],
   "source": [
    "print(qml.draw(find_largest_number)(6, -9))"
   ]
  },
  {
   "cell_type": "code",
   "execution_count": null,
   "id": "b57bdf61",
   "metadata": {},
   "outputs": [],
   "source": []
  }
 ],
 "metadata": {
  "kernelspec": {
   "display_name": "Python 3 (ipykernel)",
   "language": "python",
   "name": "python3"
  },
  "language_info": {
   "codemirror_mode": {
    "name": "ipython",
    "version": 3
   },
   "file_extension": ".py",
   "mimetype": "text/x-python",
   "name": "python",
   "nbconvert_exporter": "python",
   "pygments_lexer": "ipython3",
   "version": "3.9.12"
  }
 },
 "nbformat": 4,
 "nbformat_minor": 5
}
